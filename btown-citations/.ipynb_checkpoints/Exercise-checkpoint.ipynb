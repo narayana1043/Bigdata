{
 "cells": [
  {
   "cell_type": "code",
   "execution_count": 4,
   "metadata": {
    "collapsed": false,
    "deletable": true,
    "editable": true
   },
   "outputs": [
    {
     "name": "stdout",
     "output_type": "stream",
     "text": [
      "Simple calculator that can do addition, subtraction, multiplication and division.\n",
      "calc >>> add 4 5 6\n",
      "15.0\n",
      "calc >>> multiply 4 5 6\n",
      "120.0\n",
      "calc >>> divide 120 1 2 3 4 5\n",
      "1.0\n",
      "calc >>> subtract 4 1 2 3\n",
      "-2.0\n",
      "calc >>> EOF\n",
      "bye, bye\n"
     ]
    }
   ],
   "source": [
    "## Exercise 1\n",
    "\n",
    "from __future__ import print_function, division\n",
    "import cmd\n",
    "\n",
    "\n",
    "class Calculator(cmd.Cmd):\n",
    "    prompt = 'calc >>> '\n",
    "    intro = 'Simple calculator that can do addition, subtraction, multiplication and division.'\n",
    "\n",
    "    def do_add(self, line):\n",
    "        args = line.split()\n",
    "        total = 0\n",
    "        for arg in args:\n",
    "            total += float(arg.strip())\n",
    "        print(total)\n",
    "    \n",
    "    def help_add(self):\n",
    "        print('\\n'.join([\n",
    "            'add [number,]',\n",
    "            'Add the arguments together and display the total.'\n",
    "        ]))\n",
    "\n",
    "    def do_subtract(self, line):\n",
    "        args = line.split()\n",
    "        total = 0\n",
    "        if len(args) > 0:\n",
    "            total = float(args[0])\n",
    "            for arg in args[1:]:\n",
    "                total -= float(arg.strip())\n",
    "            print(total)\n",
    "    \n",
    "    def help_subtract(self, line):\n",
    "        print('\\n'.join([\n",
    "            'subtract [number,]',\n",
    "            'Subtract all following arguments from the first argument'\n",
    "        ]))\n",
    "    \n",
    "    def do_multiply(self, line):\n",
    "        args = line.split()\n",
    "        if len(args) > 0:\n",
    "            total = float(args[0])\n",
    "            for arg in args[1:]:\n",
    "                total *= float(arg.strip())\n",
    "            print(total)\n",
    "    \n",
    "    def help_multiply(self, line):\n",
    "        print('\\n'.join([\n",
    "            'multiply [number,]',\n",
    "            'Multiply the arguments together and display the total.'\n",
    "        ]))\n",
    "    \n",
    "    def do_divide(self, line):\n",
    "        args = line.split()\n",
    "        total = 0\n",
    "        if len(args) > 0:\n",
    "            total = float(args[0])\n",
    "            for arg in args[1:]:\n",
    "                total /= float(arg.strip())\n",
    "            print(total)\n",
    "    \n",
    "    def help_divide(self, line):\n",
    "        print('\\n'.join([\n",
    "            'divide [number,]',\n",
    "            'divide all following arguments with the first argument'\n",
    "        ]))\n",
    "\n",
    "    def do_EOF(self, line):\n",
    "             print('bye, bye')\n",
    "             return True\n",
    "\n",
    "\n",
    "if __name__ == '__main__':\n",
    "     Calculator().cmdloop()"
   ]
  },
  {
   "cell_type": "code",
   "execution_count": 5,
   "metadata": {
    "collapsed": false,
    "deletable": true,
    "editable": true
   },
   "outputs": [
    {
     "name": "stdout",
     "output_type": "stream",
     "text": [
      "(Cmd) deploy\n",
      "In Deploy\n",
      "(Cmd) kill\n",
      "In Kill\n",
      "(Cmd) benchmark\n",
      "In benchmark\n",
      "(Cmd) report\n",
      "In report\n",
      "(Cmd) EOF\n",
      "bye, bye\n"
     ]
    }
   ],
   "source": [
    "## Excerise 2\n",
    "\n",
    "class mycmd(cmd.Cmd):\n",
    "    '''Simple command processor example.'''\n",
    "\n",
    "    def do_deploy(self, line):\n",
    "        print('In Deploy')\n",
    "        \n",
    "    def do_kill(self, line):\n",
    "        print('In Kill')\n",
    "    \n",
    "    def do_benchmark(self, line):\n",
    "        print('In benchmark')\n",
    "    \n",
    "    def do_report(self, line):\n",
    "        print('In report')\n",
    "\n",
    "    def do_EOF(self, line):\n",
    "        print('bye, bye')\n",
    "        return True\n",
    "\n",
    "\n",
    "if __name__ == '__main__':\n",
    "    mycmd().cmdloop()"
   ]
  },
  {
   "cell_type": "code",
   "execution_count": 106,
   "metadata": {
    "collapsed": false,
    "deletable": true,
    "editable": true,
    "scrolled": true
   },
   "outputs": [],
   "source": [
    "## Exercise 3\n",
    "\n",
    "import os, urllib \n",
    "import pygal\n",
    "import pandas as pd\n",
    "\n",
    "if '2016-first-quarter-citations.csv' not in os.listdir('./'):\n",
    "    urllib.urlretrieve(\"https://data.bloomington.in.gov/dataset/c543f0c1-1e37-46ce-a0ba-e0a949bd248a/resource/24841976-fd35-4483-a2b4-573bd1e77cfb/download/2016-first-quarter-citations.csv\",\n",
    "                      \"2016-first-quarter-citations.csv\")"
   ]
  },
  {
   "cell_type": "code",
   "execution_count": 75,
   "metadata": {
    "collapsed": false
   },
   "outputs": [
    {
     "data": {
      "text/html": [
       "<div>\n",
       "<table border=\"1\" class=\"dataframe\">\n",
       "  <thead>\n",
       "    <tr style=\"text-align: right;\">\n",
       "      <th></th>\n",
       "      <th>Citation Number</th>\n",
       "      <th>Date Issued</th>\n",
       "      <th>Time Issued</th>\n",
       "      <th>Location</th>\n",
       "      <th>District</th>\n",
       "      <th>Cited Person Age</th>\n",
       "      <th>Cited Person Sex</th>\n",
       "      <th>Cited Person Race</th>\n",
       "      <th>Offense Code</th>\n",
       "      <th>Offense Description</th>\n",
       "      <th>Officer Age</th>\n",
       "      <th>Officer Sex</th>\n",
       "      <th>Officer Race</th>\n",
       "    </tr>\n",
       "  </thead>\n",
       "  <tbody>\n",
       "    <tr>\n",
       "      <th>0</th>\n",
       "      <td>C1979</td>\n",
       "      <td>1/14/16</td>\n",
       "      <td>4:00 PM</td>\n",
       "      <td>N WALNUT ST &amp; E 14TH ST</td>\n",
       "      <td>LB213</td>\n",
       "      <td>35.0</td>\n",
       "      <td>M</td>\n",
       "      <td>W</td>\n",
       "      <td>9-19-10-2</td>\n",
       "      <td>FRONT SEAT PASSENGER RESTRAINT</td>\n",
       "      <td>26.0</td>\n",
       "      <td>M</td>\n",
       "      <td>W</td>\n",
       "    </tr>\n",
       "    <tr>\n",
       "      <th>1</th>\n",
       "      <td>C1980</td>\n",
       "      <td>1/14/16</td>\n",
       "      <td>4:26 PM</td>\n",
       "      <td>S WASHINGTON ST &amp; E 3RD ST</td>\n",
       "      <td>LB104</td>\n",
       "      <td>43.0</td>\n",
       "      <td>M</td>\n",
       "      <td>W</td>\n",
       "      <td>9-19-10-2</td>\n",
       "      <td>FRONT SEAT PASSENGER RESTRAINT</td>\n",
       "      <td>26.0</td>\n",
       "      <td>M</td>\n",
       "      <td>W</td>\n",
       "    </tr>\n",
       "    <tr>\n",
       "      <th>2</th>\n",
       "      <td>C1981</td>\n",
       "      <td>1/14/16</td>\n",
       "      <td>4:35 PM</td>\n",
       "      <td>N WALNUT ST &amp; E 7TH ST</td>\n",
       "      <td>LB102</td>\n",
       "      <td>22.0</td>\n",
       "      <td>M</td>\n",
       "      <td>W</td>\n",
       "      <td>9-19-10-2</td>\n",
       "      <td>FRONT SEAT PASSENGER RESTRAINT</td>\n",
       "      <td>26.0</td>\n",
       "      <td>M</td>\n",
       "      <td>W</td>\n",
       "    </tr>\n",
       "    <tr>\n",
       "      <th>3</th>\n",
       "      <td>C1982</td>\n",
       "      <td>1/14/16</td>\n",
       "      <td>4:20 PM</td>\n",
       "      <td>S WASHINGTON ST &amp; E 3RD ST</td>\n",
       "      <td>LB104</td>\n",
       "      <td>26.0</td>\n",
       "      <td>F</td>\n",
       "      <td>W</td>\n",
       "      <td>9-19-10-2</td>\n",
       "      <td>FRONT SEAT PASSENGER RESTRAINT</td>\n",
       "      <td>26.0</td>\n",
       "      <td>M</td>\n",
       "      <td>W</td>\n",
       "    </tr>\n",
       "    <tr>\n",
       "      <th>4</th>\n",
       "      <td>C1983</td>\n",
       "      <td>1/14/16</td>\n",
       "      <td>4:50 PM</td>\n",
       "      <td>S WALNUT ST &amp; W 3RD ST</td>\n",
       "      <td>LB103</td>\n",
       "      <td>27.0</td>\n",
       "      <td>M</td>\n",
       "      <td>W</td>\n",
       "      <td>9-19-10-2</td>\n",
       "      <td>FRONT SEAT PASSENGER RESTRAINT</td>\n",
       "      <td>26.0</td>\n",
       "      <td>M</td>\n",
       "      <td>W</td>\n",
       "    </tr>\n",
       "  </tbody>\n",
       "</table>\n",
       "</div>"
      ],
      "text/plain": [
       "  Citation Number Date Issued Time Issued                   Location   \\\n",
       "0           C1979     1/14/16     4:00 PM     N WALNUT ST & E 14TH ST   \n",
       "1           C1980     1/14/16     4:26 PM  S WASHINGTON ST & E 3RD ST   \n",
       "2           C1981     1/14/16     4:35 PM      N WALNUT ST & E 7TH ST   \n",
       "3           C1982     1/14/16     4:20 PM  S WASHINGTON ST & E 3RD ST   \n",
       "4           C1983     1/14/16     4:50 PM      S WALNUT ST & W 3RD ST   \n",
       "\n",
       "  District  Cited Person Age Cited Person Sex Cited Person Race Offense Code  \\\n",
       "0    LB213              35.0                M                 W    9-19-10-2   \n",
       "1    LB104              43.0                M                 W    9-19-10-2   \n",
       "2    LB102              22.0                M                 W    9-19-10-2   \n",
       "3    LB104              26.0                F                 W    9-19-10-2   \n",
       "4    LB103              27.0                M                 W    9-19-10-2   \n",
       "\n",
       "              Offense Description  Officer Age Officer Sex Officer Race  \n",
       "0  FRONT SEAT PASSENGER RESTRAINT         26.0           M            W  \n",
       "1  FRONT SEAT PASSENGER RESTRAINT         26.0           M            W  \n",
       "2  FRONT SEAT PASSENGER RESTRAINT         26.0           M            W  \n",
       "3  FRONT SEAT PASSENGER RESTRAINT         26.0           M            W  \n",
       "4  FRONT SEAT PASSENGER RESTRAINT         26.0           M            W  "
      ]
     },
     "execution_count": 75,
     "metadata": {},
     "output_type": "execute_result"
    }
   ],
   "source": [
    "data = pd.read_csv('2016-first-quarter-citations.csv')\n",
    "data.head()"
   ]
  },
  {
   "cell_type": "code",
   "execution_count": 70,
   "metadata": {
    "collapsed": false
   },
   "outputs": [
    {
     "data": {
      "text/plain": [
       "(210, 13)"
      ]
     },
     "execution_count": 70,
     "metadata": {},
     "output_type": "execute_result"
    }
   ],
   "source": [
    "data.dropna(how='any')\n",
    "data.shape"
   ]
  },
  {
   "cell_type": "code",
   "execution_count": 76,
   "metadata": {
    "collapsed": false
   },
   "outputs": [
    {
     "data": {
      "text/plain": [
       "pandas.core.frame.DataFrame"
      ]
     },
     "execution_count": 76,
     "metadata": {},
     "output_type": "execute_result"
    }
   ],
   "source": [
    "type(data)"
   ]
  },
  {
   "cell_type": "code",
   "execution_count": 77,
   "metadata": {
    "collapsed": false
   },
   "outputs": [
    {
     "data": {
      "text/plain": [
       "RangeIndex(start=0, stop=210, step=1)"
      ]
     },
     "execution_count": 77,
     "metadata": {},
     "output_type": "execute_result"
    }
   ],
   "source": [
    "data.index"
   ]
  },
  {
   "cell_type": "code",
   "execution_count": 78,
   "metadata": {
    "collapsed": false
   },
   "outputs": [
    {
     "data": {
      "text/plain": [
       "Index([u'Citation Number', u'Date Issued', u'Time Issued', u'Location ',\n",
       "       u'District', u'Cited Person Age', u'Cited Person Sex',\n",
       "       u'Cited Person Race', u'Offense Code', u'Offense Description',\n",
       "       u'Officer Age', u'Officer Sex', u'Officer Race'],\n",
       "      dtype='object')"
      ]
     },
     "execution_count": 78,
     "metadata": {},
     "output_type": "execute_result"
    }
   ],
   "source": [
    "data.columns"
   ]
  },
  {
   "cell_type": "code",
   "execution_count": 79,
   "metadata": {
    "collapsed": false
   },
   "outputs": [
    {
     "data": {
      "text/plain": [
       "Citation Number         object\n",
       "Date Issued             object\n",
       "Time Issued             object\n",
       "Location                object\n",
       "District                object\n",
       "Cited Person Age       float64\n",
       "Cited Person Sex        object\n",
       "Cited Person Race       object\n",
       "Offense Code            object\n",
       "Offense Description     object\n",
       "Officer Age            float64\n",
       "Officer Sex             object\n",
       "Officer Race            object\n",
       "dtype: object"
      ]
     },
     "execution_count": 79,
     "metadata": {},
     "output_type": "execute_result"
    }
   ],
   "source": [
    "data.dtypes"
   ]
  },
  {
   "cell_type": "code",
   "execution_count": 80,
   "metadata": {
    "collapsed": false
   },
   "outputs": [
    {
     "data": {
      "text/plain": [
       "(210, 13)"
      ]
     },
     "execution_count": 80,
     "metadata": {},
     "output_type": "execute_result"
    }
   ],
   "source": [
    "data.shape"
   ]
  },
  {
   "cell_type": "code",
   "execution_count": 81,
   "metadata": {
    "collapsed": false
   },
   "outputs": [
    {
     "data": {
      "text/html": [
       "<div>\n",
       "<table border=\"1\" class=\"dataframe\">\n",
       "  <thead>\n",
       "    <tr style=\"text-align: right;\">\n",
       "      <th></th>\n",
       "      <th>Citation Number</th>\n",
       "      <th>Date Issued</th>\n",
       "      <th>Time Issued</th>\n",
       "      <th>Location</th>\n",
       "      <th>District</th>\n",
       "      <th>Cited Person Age</th>\n",
       "      <th>Cited Person Sex</th>\n",
       "      <th>Cited Person Race</th>\n",
       "      <th>Offense Code</th>\n",
       "      <th>Offense Description</th>\n",
       "      <th>Officer Age</th>\n",
       "      <th>Officer Sex</th>\n",
       "      <th>Officer Race</th>\n",
       "    </tr>\n",
       "  </thead>\n",
       "  <tbody>\n",
       "    <tr>\n",
       "      <th>0</th>\n",
       "      <td>C1979</td>\n",
       "      <td>1/14/16</td>\n",
       "      <td>4:00 PM</td>\n",
       "      <td>N WALNUT ST &amp; E 14TH ST</td>\n",
       "      <td>LB213</td>\n",
       "      <td>35.0</td>\n",
       "      <td>M</td>\n",
       "      <td>W</td>\n",
       "      <td>9-19-10-2</td>\n",
       "      <td>FRONT SEAT PASSENGER RESTRAINT</td>\n",
       "      <td>26.0</td>\n",
       "      <td>M</td>\n",
       "      <td>W</td>\n",
       "    </tr>\n",
       "    <tr>\n",
       "      <th>1</th>\n",
       "      <td>C1980</td>\n",
       "      <td>1/14/16</td>\n",
       "      <td>4:26 PM</td>\n",
       "      <td>S WASHINGTON ST &amp; E 3RD ST</td>\n",
       "      <td>LB104</td>\n",
       "      <td>43.0</td>\n",
       "      <td>M</td>\n",
       "      <td>W</td>\n",
       "      <td>9-19-10-2</td>\n",
       "      <td>FRONT SEAT PASSENGER RESTRAINT</td>\n",
       "      <td>26.0</td>\n",
       "      <td>M</td>\n",
       "      <td>W</td>\n",
       "    </tr>\n",
       "    <tr>\n",
       "      <th>2</th>\n",
       "      <td>C1981</td>\n",
       "      <td>1/14/16</td>\n",
       "      <td>4:35 PM</td>\n",
       "      <td>N WALNUT ST &amp; E 7TH ST</td>\n",
       "      <td>LB102</td>\n",
       "      <td>22.0</td>\n",
       "      <td>M</td>\n",
       "      <td>W</td>\n",
       "      <td>9-19-10-2</td>\n",
       "      <td>FRONT SEAT PASSENGER RESTRAINT</td>\n",
       "      <td>26.0</td>\n",
       "      <td>M</td>\n",
       "      <td>W</td>\n",
       "    </tr>\n",
       "    <tr>\n",
       "      <th>3</th>\n",
       "      <td>C1982</td>\n",
       "      <td>1/14/16</td>\n",
       "      <td>4:20 PM</td>\n",
       "      <td>S WASHINGTON ST &amp; E 3RD ST</td>\n",
       "      <td>LB104</td>\n",
       "      <td>26.0</td>\n",
       "      <td>F</td>\n",
       "      <td>W</td>\n",
       "      <td>9-19-10-2</td>\n",
       "      <td>FRONT SEAT PASSENGER RESTRAINT</td>\n",
       "      <td>26.0</td>\n",
       "      <td>M</td>\n",
       "      <td>W</td>\n",
       "    </tr>\n",
       "    <tr>\n",
       "      <th>4</th>\n",
       "      <td>C1983</td>\n",
       "      <td>1/14/16</td>\n",
       "      <td>4:50 PM</td>\n",
       "      <td>S WALNUT ST &amp; W 3RD ST</td>\n",
       "      <td>LB103</td>\n",
       "      <td>27.0</td>\n",
       "      <td>M</td>\n",
       "      <td>W</td>\n",
       "      <td>9-19-10-2</td>\n",
       "      <td>FRONT SEAT PASSENGER RESTRAINT</td>\n",
       "      <td>26.0</td>\n",
       "      <td>M</td>\n",
       "      <td>W</td>\n",
       "    </tr>\n",
       "  </tbody>\n",
       "</table>\n",
       "</div>"
      ],
      "text/plain": [
       "  Citation Number Date Issued Time Issued                   Location   \\\n",
       "0           C1979     1/14/16     4:00 PM     N WALNUT ST & E 14TH ST   \n",
       "1           C1980     1/14/16     4:26 PM  S WASHINGTON ST & E 3RD ST   \n",
       "2           C1981     1/14/16     4:35 PM      N WALNUT ST & E 7TH ST   \n",
       "3           C1982     1/14/16     4:20 PM  S WASHINGTON ST & E 3RD ST   \n",
       "4           C1983     1/14/16     4:50 PM      S WALNUT ST & W 3RD ST   \n",
       "\n",
       "  District  Cited Person Age Cited Person Sex Cited Person Race Offense Code  \\\n",
       "0    LB213              35.0                M                 W    9-19-10-2   \n",
       "1    LB104              43.0                M                 W    9-19-10-2   \n",
       "2    LB102              22.0                M                 W    9-19-10-2   \n",
       "3    LB104              26.0                F                 W    9-19-10-2   \n",
       "4    LB103              27.0                M                 W    9-19-10-2   \n",
       "\n",
       "              Offense Description  Officer Age Officer Sex Officer Race  \n",
       "0  FRONT SEAT PASSENGER RESTRAINT         26.0           M            W  \n",
       "1  FRONT SEAT PASSENGER RESTRAINT         26.0           M            W  \n",
       "2  FRONT SEAT PASSENGER RESTRAINT         26.0           M            W  \n",
       "3  FRONT SEAT PASSENGER RESTRAINT         26.0           M            W  \n",
       "4  FRONT SEAT PASSENGER RESTRAINT         26.0           M            W  "
      ]
     },
     "execution_count": 81,
     "metadata": {},
     "output_type": "execute_result"
    }
   ],
   "source": [
    "data.head()"
   ]
  },
  {
   "cell_type": "code",
   "execution_count": 82,
   "metadata": {
    "collapsed": false
   },
   "outputs": [
    {
     "data": {
      "text/html": [
       "<div>\n",
       "<table border=\"1\" class=\"dataframe\">\n",
       "  <thead>\n",
       "    <tr style=\"text-align: right;\">\n",
       "      <th></th>\n",
       "      <th>Citation Number</th>\n",
       "      <th>Date Issued</th>\n",
       "      <th>Time Issued</th>\n",
       "      <th>Location</th>\n",
       "      <th>District</th>\n",
       "      <th>Cited Person Age</th>\n",
       "      <th>Cited Person Sex</th>\n",
       "      <th>Cited Person Race</th>\n",
       "      <th>Offense Code</th>\n",
       "      <th>Offense Description</th>\n",
       "      <th>Officer Age</th>\n",
       "      <th>Officer Sex</th>\n",
       "      <th>Officer Race</th>\n",
       "    </tr>\n",
       "  </thead>\n",
       "  <tbody>\n",
       "    <tr>\n",
       "      <th>205</th>\n",
       "      <td>C2364</td>\n",
       "      <td>3/12/16</td>\n",
       "      <td>10:20 AM</td>\n",
       "      <td>W 3RD ST &amp; S JOHNSON AVE</td>\n",
       "      <td>LB404</td>\n",
       "      <td>35.0</td>\n",
       "      <td>F</td>\n",
       "      <td>W</td>\n",
       "      <td>9-21-5-2</td>\n",
       "      <td>SPEED MAXIMUM</td>\n",
       "      <td>39.0</td>\n",
       "      <td>F</td>\n",
       "      <td>W</td>\n",
       "    </tr>\n",
       "    <tr>\n",
       "      <th>206</th>\n",
       "      <td>C2369</td>\n",
       "      <td>3/15/16</td>\n",
       "      <td>6:05 AM</td>\n",
       "      <td>S HIGH ST &amp; E 3RD ST</td>\n",
       "      <td>LB222</td>\n",
       "      <td>60.0</td>\n",
       "      <td>M</td>\n",
       "      <td>W</td>\n",
       "      <td>9-21-5-2</td>\n",
       "      <td>SPEED MAXIMUM</td>\n",
       "      <td>39.0</td>\n",
       "      <td>F</td>\n",
       "      <td>W</td>\n",
       "    </tr>\n",
       "    <tr>\n",
       "      <th>207</th>\n",
       "      <td>NaN</td>\n",
       "      <td>NaN</td>\n",
       "      <td>NaN</td>\n",
       "      <td>NaN</td>\n",
       "      <td>NaN</td>\n",
       "      <td>NaN</td>\n",
       "      <td>NaN</td>\n",
       "      <td>U</td>\n",
       "      <td>NaN</td>\n",
       "      <td>NaN</td>\n",
       "      <td>NaN</td>\n",
       "      <td>NaN</td>\n",
       "      <td>NaN</td>\n",
       "    </tr>\n",
       "    <tr>\n",
       "      <th>208</th>\n",
       "      <td>NaN</td>\n",
       "      <td>NaN</td>\n",
       "      <td>NaN</td>\n",
       "      <td>NaN</td>\n",
       "      <td>NaN</td>\n",
       "      <td>NaN</td>\n",
       "      <td>NaN</td>\n",
       "      <td>U</td>\n",
       "      <td>NaN</td>\n",
       "      <td>NaN</td>\n",
       "      <td>NaN</td>\n",
       "      <td>NaN</td>\n",
       "      <td>NaN</td>\n",
       "    </tr>\n",
       "    <tr>\n",
       "      <th>209</th>\n",
       "      <td>NaN</td>\n",
       "      <td>NaN</td>\n",
       "      <td>NaN</td>\n",
       "      <td>NaN</td>\n",
       "      <td>NaN</td>\n",
       "      <td>NaN</td>\n",
       "      <td>NaN</td>\n",
       "      <td>U</td>\n",
       "      <td>NaN</td>\n",
       "      <td>NaN</td>\n",
       "      <td>NaN</td>\n",
       "      <td>NaN</td>\n",
       "      <td>NaN</td>\n",
       "    </tr>\n",
       "  </tbody>\n",
       "</table>\n",
       "</div>"
      ],
      "text/plain": [
       "    Citation Number Date Issued Time Issued                 Location   \\\n",
       "205           C2364     3/12/16    10:20 AM  W 3RD ST & S JOHNSON AVE   \n",
       "206           C2369     3/15/16     6:05 AM      S HIGH ST & E 3RD ST   \n",
       "207             NaN         NaN         NaN                       NaN   \n",
       "208             NaN         NaN         NaN                       NaN   \n",
       "209             NaN         NaN         NaN                       NaN   \n",
       "\n",
       "    District  Cited Person Age Cited Person Sex Cited Person Race  \\\n",
       "205    LB404              35.0                F                 W   \n",
       "206    LB222              60.0                M                 W   \n",
       "207      NaN               NaN              NaN                 U   \n",
       "208      NaN               NaN              NaN                 U   \n",
       "209      NaN               NaN              NaN                 U   \n",
       "\n",
       "    Offense Code Offense Description  Officer Age Officer Sex Officer Race  \n",
       "205     9-21-5-2       SPEED MAXIMUM         39.0           F            W  \n",
       "206     9-21-5-2       SPEED MAXIMUM         39.0           F            W  \n",
       "207          NaN                 NaN          NaN         NaN          NaN  \n",
       "208          NaN                 NaN          NaN         NaN          NaN  \n",
       "209          NaN                 NaN          NaN         NaN          NaN  "
      ]
     },
     "execution_count": 82,
     "metadata": {},
     "output_type": "execute_result"
    }
   ],
   "source": [
    "data.tail()"
   ]
  },
  {
   "cell_type": "code",
   "execution_count": 87,
   "metadata": {
    "collapsed": false
   },
   "outputs": [
    {
     "data": {
      "text/plain": [
       "(200, 13)"
      ]
     },
     "execution_count": 87,
     "metadata": {},
     "output_type": "execute_result"
    }
   ],
   "source": [
    "data = data.dropna(how='any')\n",
    "data.shape"
   ]
  },
  {
   "cell_type": "code",
   "execution_count": 93,
   "metadata": {
    "collapsed": false
   },
   "outputs": [],
   "source": [
    "from datetime import datetime\n",
    "data['DateTime Issued'] = data.apply(\n",
    "    lambda row: datetime.strptime\n",
    "    (row['Date Issued'] + ':' + row['Time Issued'], \n",
    "     '%m/%d/%y:%I:%M %p'), axis=1)\n",
    "data['Day of Week Issued'] = data.apply(\n",
    "    lambda row: datetime.strftime(row['DateTime Issued'],\n",
    "                                  '%A'), \n",
    "    axis=1)"
   ]
  },
  {
   "cell_type": "code",
   "execution_count": 133,
   "metadata": {
    "collapsed": false
   },
   "outputs": [],
   "source": [
    "## Plotting using pygal\n",
    "days = ['Monday', 'Tuesday', 'Wednesday', 'Thursday', 'Friday', \n",
    "        'Saturday', 'Sunday']\n",
    "dow_data = [days.index(dow) \n",
    "            for dow in data['Day of Week Issued']]\n",
    "dow_count = [dow_data.count(i) for i in range(len(days))]\n",
    "hist_chart = pg.Histogram()\n",
    "hist_chart.add('Day of Week', [(i,j,j+1) for i,j in zip(dow_count, range(len(dow_count)))])\n",
    "hist_chart.x_labels = map(str, days)\n",
    "hist_chart.render_to_file('save.svg')"
   ]
  },
  {
   "cell_type": "code",
   "execution_count": null,
   "metadata": {
    "collapsed": false
   },
   "outputs": [],
   "source": []
  }
 ],
 "metadata": {
  "kernelspec": {
   "display_name": "Python 2",
   "language": "python",
   "name": "python2"
  },
  "language_info": {
   "codemirror_mode": {
    "name": "ipython",
    "version": 2
   },
   "file_extension": ".py",
   "mimetype": "text/x-python",
   "name": "python",
   "nbconvert_exporter": "python",
   "pygments_lexer": "ipython2",
   "version": "2.7.12"
  }
 },
 "nbformat": 4,
 "nbformat_minor": 2
}
