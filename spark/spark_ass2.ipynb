{
 "cells": [
  {
   "cell_type": "markdown",
   "metadata": {},
   "source": [
    "## Author: Veera Marni\n",
    "## Spark Assignment 2"
   ]
  },
  {
   "cell_type": "code",
   "execution_count": 4,
   "metadata": {
    "collapsed": true
   },
   "outputs": [],
   "source": [
    "from pyspark.mllib.linalg import DenseVector\n",
    "import numpy as np\n",
    "from pyspark.mllib.regression import LabeledPoint\n",
    "from pyspark.ml.feature import MinMaxScaler"
   ]
  },
  {
   "cell_type": "markdown",
   "metadata": {},
   "source": [
    "### Loader"
   ]
  },
  {
   "cell_type": "code",
   "execution_count": 3,
   "metadata": {
    "collapsed": true
   },
   "outputs": [],
   "source": [
    "from pyspark import SparkConf, SparkContext\n",
    "from pyspark.sql import SparkSession\n",
    "conf = SparkConf().setMaster(\"local\").setAppName(\"My App\")\n",
    "sc = SparkContext(conf=conf)"
   ]
  },
  {
   "cell_type": "code",
   "execution_count": 5,
   "metadata": {
    "collapsed": true
   },
   "outputs": [],
   "source": [
    "inputRDD = sc.textFile(\"/home/veera/Downloads/MSD.txt\", 10).map(lambda line:line.split('\\n'))"
   ]
  },
  {
   "cell_type": "code",
   "execution_count": 51,
   "metadata": {
    "collapsed": false
   },
   "outputs": [],
   "source": [
    "from pyspark.mllib.linalg import SparseVector\n",
    "from pyspark.mllib.regression import LabeledPoint\n",
    "\n",
    "def parser(x):\n",
    "    x = x[0].split(',')\n",
    "    return LabeledPoint(x[0], x[1:])\n",
    "\n",
    "msd_rdd = inputRDD.map(lambda x: parser(x))"
   ]
  },
  {
   "cell_type": "code",
   "execution_count": 52,
   "metadata": {
    "collapsed": false
   },
   "outputs": [
    {
     "name": "stdout",
     "output_type": "stream",
     "text": [
      "label_min:  1922.0\n"
     ]
    }
   ],
   "source": [
    "label_min = msd_rdd.map(lambda x: x.label).min()\n",
    "print \"label_min: \",label_min\n",
    "\n",
    "def rescale_label(x, label_min):\n",
    "    x.label = x.label - label_min\n",
    "    return x\n",
    "\n",
    "msd_rdd = msd_rdd.map(lambda x: rescale_label(x, label_min))\n",
    "msd_subset_rdd = msd_rdd.map(lambda row: LabeledPoint(row.label, row.features[:2]))"
   ]
  },
  {
   "cell_type": "code",
   "execution_count": 53,
   "metadata": {
    "collapsed": true
   },
   "outputs": [],
   "source": [
    "col0_values = shifted_label_msd_rdd.map(lambda x: x.features[0])\n",
    "col0_min = col0_values.min()\n",
    "col0_max = col0_values.max()\n",
    "col0_diff = col0_max - col0_min\n",
    "col1_values = shifted_label_msd_rdd.map(lambda x: x.features[1])\n",
    "col1_min = col1_values.min()\n",
    "col1_max = col1_values.max()\n",
    "col1_diff = col1_max - col1_min"
   ]
  },
  {
   "cell_type": "code",
   "execution_count": 57,
   "metadata": {
    "collapsed": false
   },
   "outputs": [
    {
     "name": "stdout",
     "output_type": "stream",
     "text": [
      "1.749 61.97014 60.22114 -337.0925 384.06573 721.15823\n"
     ]
    }
   ],
   "source": [
    "print col0_min, col0_max, col0_diff, col1_min, col1_max, col1_diff"
   ]
  },
  {
   "cell_type": "code",
   "execution_count": 59,
   "metadata": {
    "collapsed": false
   },
   "outputs": [
    {
     "name": "stdout",
     "output_type": "stream",
     "text": [
      "(79.0,[0.800293219291,-0.970226866856])\n"
     ]
    }
   ],
   "source": [
    "def feature_scaler(x, col0_min, col0_diff, col1_min, col1_diff):\n",
    "    x.features = (x.features - [col0_min, col1_diff]) / ([col0_diff, col1_diff])\n",
    "    return x\n",
    "\n",
    "scaled_msd_rdd = msd_subset_rdd.map(lambda x: feature_scaler \\\n",
    "                                           (x, col0_min, col0_diff, col1_min, col1_diff))\n",
    "print scaled_msd_rdd.first()"
   ]
  },
  {
   "cell_type": "markdown",
   "metadata": {
    "deletable": true,
    "editable": true
   },
   "source": [
    "### Part 1"
   ]
  },
  {
   "cell_type": "code",
   "execution_count": 101,
   "metadata": {
    "collapsed": true
   },
   "outputs": [],
   "source": [
    "def gradient_cal(weights,lp):\n",
    "    # compute (w.T*x-y)x \n",
    "    value = np.dot(np.dot(weights.T,lp.features)-lp.label,lp.features)\n",
    "    return value"
   ]
  },
  {
   "cell_type": "code",
   "execution_count": 61,
   "metadata": {
    "collapsed": true
   },
   "outputs": [],
   "source": [
    "sample = scaled_msd_rdd.takeSample(num=2,seed=1,withReplacement=False)"
   ]
  },
  {
   "cell_type": "code",
   "execution_count": 62,
   "metadata": {
    "collapsed": false
   },
   "outputs": [],
   "source": [
    "sample_msd_rdd = sc.parallelize(sample)"
   ]
  },
  {
   "cell_type": "code",
   "execution_count": 70,
   "metadata": {
    "collapsed": false
   },
   "outputs": [
    {
     "name": "stdout",
     "output_type": "stream",
     "text": [
      "(69.0,[0.260247979364,-1.04290618718])\n"
     ]
    }
   ],
   "source": [
    "print sample_msd_rdd.first()"
   ]
  },
  {
   "cell_type": "code",
   "execution_count": 63,
   "metadata": {
    "collapsed": false
   },
   "outputs": [
    {
     "name": "stdout",
     "output_type": "stream",
     "text": [
      "Gradient\n",
      "[-18.1614449   72.77936721]\n"
     ]
    }
   ],
   "source": [
    "weights = np.random.random(size=len(sample_msd_rdd.first().features))\n",
    "gradient_value = sample_msd_rdd.map(lambda lp: gradient_cal(weights, lp))\n",
    "print \"Gradient\"\n",
    "print gradient_value.first()"
   ]
  },
  {
   "cell_type": "markdown",
   "metadata": {},
   "source": [
    "### Part2"
   ]
  },
  {
   "cell_type": "code",
   "execution_count": 84,
   "metadata": {
    "collapsed": true
   },
   "outputs": [],
   "source": [
    "def predictor(weights, features):\n",
    "    \"\"\"\n",
    "    function that takes in weight and LabeledPoint instance and returns a <label, prediction tuple>\n",
    "    \"\"\"\n",
    "    prediction = np.dot(features, weights.T)\n",
    "    return prediction"
   ]
  },
  {
   "cell_type": "code",
   "execution_count": 122,
   "metadata": {
    "collapsed": false
   },
   "outputs": [
    {
     "name": "stdout",
     "output_type": "stream",
     "text": [
      "2\n"
     ]
    }
   ],
   "source": [
    "predictions = sample_msd_rdd.map(lambda row: (row.label, predictor(weights, row.features)))\n",
    "print predictions.count()"
   ]
  },
  {
   "cell_type": "markdown",
   "metadata": {},
   "source": [
    "### Part3\n",
    "gradient descent function for linear regression"
   ]
  },
  {
   "cell_type": "code",
   "execution_count": 126,
   "metadata": {
    "collapsed": false
   },
   "outputs": [],
   "source": [
    "def gradient_descent(train, iterations=10):\n",
    "    w = [np.random.random(size=len(sample_msd_rdd.first().features))]*iterations\n",
    "    err = []\n",
    "    train_count = train.count()\n",
    "    for i in range(iterations):\n",
    "        w[i] = w[i] - train.map(lambda x: gradient_cal(w[i], x)).sum()*0.01\n",
    "        if i != iterations-1:\n",
    "            w[i+1] = w[i]\n",
    "        predictions = train.map(lambda row: (row.label, predictor(w[i], row.features)))\n",
    "        rmse_err = predictions.map(lambda (y,p): (y-p)**2).reduce(lambda x,y: x+y) / train_count\n",
    "        err.append(rmse_err)\n",
    "    \n",
    "    return w, err    "
   ]
  },
  {
   "cell_type": "markdown",
   "metadata": {},
   "source": [
    "### Part4\n",
    "Training model on training data and evaluating the model based on validation set after 50 iterations"
   ]
  },
  {
   "cell_type": "code",
   "execution_count": 135,
   "metadata": {
    "collapsed": false
   },
   "outputs": [
    {
     "name": "stderr",
     "output_type": "stream",
     "text": [
      "/home/veera/.virtualenvs/env_i524/lib/python2.7/site-packages/ipykernel/__main__.py:10: RuntimeWarning: overflow encountered in double_scalars\n"
     ]
    }
   ],
   "source": [
    "iterations = 50\n",
    "train, test = scaled_msd_rdd.randomSplit(weights=[0.2,0.2])\n",
    "train, validation = train.randomSplit(weights=[0.8,0.2])\n",
    "w, err = gradient_descent(train, iterations)"
   ]
  },
  {
   "cell_type": "code",
   "execution_count": 171,
   "metadata": {
    "collapsed": false
   },
   "outputs": [
    {
     "name": "stdout",
     "output_type": "stream",
     "text": [
      "RMSE Val Err:  inf\n"
     ]
    }
   ],
   "source": [
    "val_err = validation.map(lambda row: (row.label, predictor(w[iterations-1], row.features)))\n",
    "print \"RMSE Validation Err: \",val_err.map(lambda (y,p): (y-p)**2).reduce(lambda x,y: x+y) / val_err.count()"
   ]
  },
  {
   "cell_type": "markdown",
   "metadata": {},
   "source": [
    "Error value to high so shown as Inf"
   ]
  },
  {
   "cell_type": "markdown",
   "metadata": {},
   "source": [
    "### Part5"
   ]
  },
  {
   "cell_type": "code",
   "execution_count": 172,
   "metadata": {
    "collapsed": false
   },
   "outputs": [
    {
     "data": {
      "image/png": "[encoded data removed]",
      "text/plain": [
       "<matplotlib.figure.Figure at 0x7fd33de86410>"
      ]
     },
     "metadata": {},
     "output_type": "display_data"
    }
   ],
   "source": [
    "import matplotlib.pyplot as plt\n",
    "%matplotlib inline\n",
    "plt.scatter(range(50),np.log10(np.array(err)))\n",
    "plt.title(\"Training error graph\")\n",
    "plt.show()"
   ]
  },
  {
   "cell_type": "markdown",
   "metadata": {},
   "source": [
    "### Part6"
   ]
  },
  {
   "cell_type": "code",
   "execution_count": 183,
   "metadata": {
    "collapsed": false
   },
   "outputs": [
    {
     "name": "stdout",
     "output_type": "stream",
     "text": [
      "RMSE Test Err:  inf\n"
     ]
    }
   ],
   "source": [
    "test_predictions = test.map(lambda row: (row.label, predictor(w[iterations-1], row.features)))\n",
    "test_err = test_predictions.map(lambda (y,p): (y-p)**2).reduce(lambda x,y: x+y) / test_predictions.count()\n",
    "print \"RMSE Test Err: \",test_err"
   ]
  },
  {
   "cell_type": "markdown",
   "metadata": {
    "deletable": true,
    "editable": true
   },
   "source": [
    "Error value to high so shown as Inf"
   ]
  }
 ],
 "metadata": {
  "kernelspec": {
   "display_name": "Python 2",
   "language": "python",
   "name": "python2"
  },
  "language_info": {
   "codemirror_mode": {
    "name": "ipython",
    "version": 2
   },
   "file_extension": ".py",
   "mimetype": "text/x-python",
   "name": "python",
   "nbconvert_exporter": "python",
   "pygments_lexer": "ipython2",
   "version": "2.7.12"
  }
 },
 "nbformat": 4,
 "nbformat_minor": 2
}
