{
 "cells": [
  {
   "cell_type": "markdown",
   "metadata": {
    "deletable": true,
    "editable": true
   },
   "source": [
    "## Author: Veera Marni\n",
    "## Spark Assignment 1"
   ]
  },
  {
   "cell_type": "markdown",
   "metadata": {
    "deletable": true,
    "editable": true
   },
   "source": [
    "### Loading Text Files"
   ]
  },
  {
   "cell_type": "code",
   "execution_count": 1,
   "metadata": {
    "collapsed": false,
    "deletable": true,
    "editable": true
   },
   "outputs": [],
   "source": [
    "from pyspark import SparkConf, SparkContext\n",
    "from pyspark.sql import SparkSession\n",
    "conf = SparkConf().setMaster(\"local\").setAppName(\"My App\")\n",
    "sc = SparkContext(conf=conf)\n",
    "# sc = SparkSession.builder.master(\"local\")\\\n",
    "#             .appName(\"My App\").config(conf=SparkConf()).getOrCreate()"
   ]
  },
  {
   "cell_type": "markdown",
   "metadata": {
    "deletable": true,
    "editable": true
   },
   "source": [
    "### Part 1"
   ]
  },
  {
   "cell_type": "markdown",
   "metadata": {
    "deletable": true,
    "editable": true
   },
   "source": [
    "#### Loading Million songs Data set"
   ]
  },
  {
   "cell_type": "code",
   "execution_count": 3,
   "metadata": {
    "collapsed": true,
    "deletable": true,
    "editable": true
   },
   "outputs": [],
   "source": [
    "# get data from class webpage or search online\n",
    "inputRDD = sc.textFile(\"/home/veera/Downloads/MSD.txt\", 10).map(lambda line:line.split('\\n'))"
   ]
  },
  {
   "cell_type": "code",
   "execution_count": 4,
   "metadata": {
    "collapsed": false,
    "deletable": true,
    "editable": true
   },
   "outputs": [],
   "source": [
    "count = inputRDD.count()"
   ]
  },
  {
   "cell_type": "code",
   "execution_count": 175,
   "metadata": {
    "collapsed": false,
    "deletable": true,
    "editable": true
   },
   "outputs": [
    {
     "name": "stdout",
     "output_type": "stream",
     "text": [
      "The number of data points we have =  515345\n",
      "Printing first 40 instances \n",
      "[[u'2001,49.94357,21.47114,73.07750,8.74861,-17.40628,-13.09905,-25.01202,-12.23257,7.83089,-2.46783,3.32136,-2.31521,10.20556,611.10913,951.08960,698.11428,408.98485,383.70912,326.51512,238.11327,251.42414,187.17351,100.42652,179.19498,-8.41558,-317.87038,95.86266,48.10259,-95.66303,-18.06215,1.96984,34.42438,11.72670,1.36790,7.79444,-0.36994,-133.67852,-83.26165,-37.29765,73.04667,-37.36684,-3.13853,-24.21531,-13.23066,15.93809,-18.60478,82.15479,240.57980,-10.29407,31.58431,-25.38187,-3.90772,13.29258,41.55060,-7.26272,-21.00863,105.50848,64.29856,26.08481,-44.59110,-8.30657,7.93706,-10.73660,-95.44766,-82.03307,-35.59194,4.69525,70.95626,28.09139,6.02015,-37.13767,-41.12450,-8.40816,7.19877,-8.60176,-5.90857,-12.32437,14.68734,-54.32125,40.14786,13.01620,-54.40548,58.99367,15.37344,1.11144,-23.08793,68.40795,-1.82223,-27.46348,2.26327'], [u'2001,48.73215,18.42930,70.32679,12.94636,-10.32437,-24.83777,8.76630,-0.92019,18.76548,4.59210,2.21920,0.34006,44.38997,2056.93836,605.40696,457.41175,777.15347,415.64880,746.47775,366.45320,317.82946,273.07917,141.75921,317.35269,19.48271,-65.25496,162.75145,135.00765,-96.28436,-86.87955,17.38087,45.90742,32.49908,-32.85429,45.10830,26.84939,-302.57328,-41.71932,-138.85034,202.18689,-33.44277,195.04749,-16.93235,-1.09168,-25.38061,-12.19034,-125.94783,121.74212,136.67075,41.18157,28.55107,1.52298,70.99515,-43.63073,-42.55014,129.82848,79.95420,-87.14554,-45.75446,-65.82100,-43.90031,-19.45705,12.59163,-407.64130,42.91189,12.15850,-88.37882,42.25246,46.49209,-30.17747,45.98495,130.47892,13.88281,-4.00055,17.85965,-18.32138,-87.99109,14.37524,-22.70119,-58.81266,5.66812,-19.68073,33.04964,42.87836,-9.90378,-32.22788,70.49388,12.04941,58.43453,26.92061']]\n"
     ]
    }
   ],
   "source": [
    "print \"The number of data points we have = \",count\n",
    "print \"Printing first 40 instances \\n\", inputRDD.take(2)"
   ]
  },
  {
   "cell_type": "markdown",
   "metadata": {
    "deletable": true,
    "editable": true
   },
   "source": [
    "### Part 2 \n",
    "\n",
    "storing data as LabeledPoint in order to train our model."
   ]
  },
  {
   "cell_type": "code",
   "execution_count": 118,
   "metadata": {
    "collapsed": false,
    "deletable": true,
    "editable": true
   },
   "outputs": [
    {
     "name": "stdout",
     "output_type": "stream",
     "text": [
      "(2001.0,[49.94357,21.47114,73.0775,8.74861,-17.40628,-13.09905,-25.01202,-12.23257,7.83089,-2.46783,3.32136,-2.31521,10.20556,611.10913,951.0896,698.11428,408.98485,383.70912,326.51512,238.11327,251.42414,187.17351,100.42652,179.19498,-8.41558,-317.87038,95.86266,48.10259,-95.66303,-18.06215,1.96984,34.42438,11.7267,1.3679,7.79444,-0.36994,-133.67852,-83.26165,-37.29765,73.04667,-37.36684,-3.13853,-24.21531,-13.23066,15.93809,-18.60478,82.15479,240.5798,-10.29407,31.58431,-25.38187,-3.90772,13.29258,41.5506,-7.26272,-21.00863,105.50848,64.29856,26.08481,-44.5911,-8.30657,7.93706,-10.7366,-95.44766,-82.03307,-35.59194,4.69525,70.95626,28.09139,6.02015,-37.13767,-41.1245,-8.40816,7.19877,-8.60176,-5.90857,-12.32437,14.68734,-54.32125,40.14786,13.0162,-54.40548,58.99367,15.37344,1.11144,-23.08793,68.40795,-1.82223,-27.46348,2.26327])\n"
     ]
    }
   ],
   "source": [
    "from pyspark.mllib.linalg import SparseVector\n",
    "from pyspark.mllib.regression import LabeledPoint\n",
    "\n",
    "def parser(x):\n",
    "    x = x[0].split(',')\n",
    "    return LabeledPoint(x[0], x[1:])\n",
    "\n",
    "msd_rdd = inputRDD.map(lambda x: parser(x))\n",
    "\n",
    "print msd_rdd.first()"
   ]
  },
  {
   "cell_type": "markdown",
   "metadata": {
    "deletable": true,
    "editable": true
   },
   "source": [
    "### Part 3"
   ]
  },
  {
   "cell_type": "markdown",
   "metadata": {
    "deletable": true,
    "editable": true
   },
   "source": [
    "#### Feature Selection"
   ]
  },
  {
   "cell_type": "code",
   "execution_count": null,
   "metadata": {
    "collapsed": true,
    "deletable": true,
    "editable": true
   },
   "outputs": [],
   "source": [
    "msd_subset_rdd = msd_rdd.map(lambda row: LabeledPoint(row.label, row.features[:2]))"
   ]
  },
  {
   "cell_type": "code",
   "execution_count": 69,
   "metadata": {
    "collapsed": false,
    "deletable": true,
    "editable": true
   },
   "outputs": [],
   "source": [
    "msd_subset_rdd_40samples = msd_subset_rdd.takeSample(num=40,withReplacement=False)"
   ]
  },
  {
   "cell_type": "code",
   "execution_count": 84,
   "metadata": {
    "collapsed": false,
    "deletable": true,
    "editable": true
   },
   "outputs": [],
   "source": [
    "heat_map_data = np.array([[x.features[0],x.features[1]] for x in msd_subset_rdd_40samples])"
   ]
  },
  {
   "cell_type": "markdown",
   "metadata": {
    "deletable": true,
    "editable": true
   },
   "source": [
    "#### Normalization"
   ]
  },
  {
   "cell_type": "code",
   "execution_count": 102,
   "metadata": {
    "collapsed": false,
    "deletable": true,
    "editable": true
   },
   "outputs": [
    {
     "name": "stdout",
     "output_type": "stream",
     "text": [
      "Normalized B/W zero and one\n",
      "[[ 0.70668931  0.38029414]\n",
      " [ 0.50343113  0.66190911]\n",
      " [ 0.38684057  0.33617136]\n",
      " [ 0.81944918  0.410139  ]\n",
      " [ 0.96704653  0.67633989]\n",
      " [ 0.74313055  0.7547258 ]\n",
      " [ 0.          0.        ]\n",
      " [ 0.55877503  0.30009062]\n",
      " [ 0.75522221  0.56031824]\n",
      " [ 0.38613429  0.12171501]\n",
      " [ 0.73595412  0.78427269]\n",
      " [ 0.87350833  0.69245537]\n",
      " [ 0.39341048  0.33771195]\n",
      " [ 0.52820607  0.25581727]\n",
      " [ 0.57101078  0.20686208]\n",
      " [ 0.85391152  0.43570341]\n",
      " [ 0.28922437  1.        ]\n",
      " [ 0.17222092  0.33425367]\n",
      " [ 0.82600836  0.68238618]\n",
      " [ 0.94357365  0.5679095 ]\n",
      " [ 0.67362638  0.46864776]\n",
      " [ 0.73898812  0.58028189]\n",
      " [ 0.9139389   0.48542156]\n",
      " [ 0.57139873  0.51678912]\n",
      " [ 0.7054295   0.54157148]\n",
      " [ 0.83326307  0.6905804 ]\n",
      " [ 0.78480569  0.70807795]\n",
      " [ 0.50386862  0.33274808]\n",
      " [ 0.7999937   0.71760885]\n",
      " [ 0.59297341  0.67469678]\n",
      " [ 0.71519968  0.61551898]\n",
      " [ 0.9260988   0.60236667]\n",
      " [ 0.81154638  0.59215826]\n",
      " [ 0.45932678  0.47008788]\n",
      " [ 0.78694913  0.70715859]\n",
      " [ 0.40718835  0.24189541]\n",
      " [ 0.60012491  0.63149625]\n",
      " [ 0.91989813  0.60421936]\n",
      " [ 0.90116763  0.64498041]\n",
      " [ 1.          0.67255562]]\n"
     ]
    }
   ],
   "source": [
    "from sklearn.preprocessing import MinMaxScaler\n",
    "\n",
    "heat_map_data = MinMaxScaler().fit_transform(X=heat_map_data)\n",
    "print \"Normalized B/W zero and one\"\n",
    "print heat_map_data"
   ]
  },
  {
   "cell_type": "markdown",
   "metadata": {
    "deletable": true,
    "editable": true
   },
   "source": [
    "#### Heat Map"
   ]
  },
  {
   "cell_type": "code",
   "execution_count": 100,
   "metadata": {
    "collapsed": false,
    "deletable": true,
    "editable": true
   },
   "outputs": [
    {
     "data": {
      "image/png": "[encoded data removed]",
      "text/plain": [
       "<matplotlib.figure.Figure at 0x7f364ab52110>"
      ]
     },
     "metadata": {},
     "output_type": "display_data"
    }
   ],
   "source": [
    "import matplotlib.pyplot as plt\n",
    "import numpy as np\n",
    "\n",
    "plt.figure(figsize=(10,1))\n",
    "plt.imshow(heat_map_data.T, cmap='hot', interpolation='nearest')\n",
    "plt.show()"
   ]
  },
  {
   "cell_type": "markdown",
   "metadata": {
    "collapsed": false,
    "deletable": true,
    "editable": true
   },
   "source": [
    "### Part 4"
   ]
  },
  {
   "cell_type": "code",
   "execution_count": 123,
   "metadata": {
    "collapsed": false,
    "deletable": true,
    "editable": true
   },
   "outputs": [
    {
     "name": "stdout",
     "output_type": "stream",
     "text": [
      "label_min:  1922.0\n"
     ]
    }
   ],
   "source": [
    "label_min = msd_rdd.map(lambda x: x.label).min()\n",
    "print \"label_min: \",label_min"
   ]
  },
  {
   "cell_type": "code",
   "execution_count": 155,
   "metadata": {
    "collapsed": false,
    "deletable": true,
    "editable": true
   },
   "outputs": [
    {
     "name": "stdout",
     "output_type": "stream",
     "text": [
      "(79.0,[49.94357,21.47114])\n"
     ]
    }
   ],
   "source": [
    "def rescale_label(x, label_min):\n",
    "    x.label = x.label - label_min\n",
    "    return x\n",
    "\n",
    "shifted_label_msd_rdd = msd_subset_rdd.map(lambda x: rescale_label(x, label_min))\n",
    "print shifted_label_msd_rdd.first()"
   ]
  },
  {
   "cell_type": "code",
   "execution_count": 159,
   "metadata": {
    "collapsed": false,
    "deletable": true,
    "editable": true
   },
   "outputs": [
    {
     "name": "stdout",
     "output_type": "stream",
     "text": [
      "49.94357\n"
     ]
    }
   ],
   "source": [
    "print shifted_label_msd_rdd.first().features[0]"
   ]
  },
  {
   "cell_type": "code",
   "execution_count": 160,
   "metadata": {
    "collapsed": false,
    "deletable": true,
    "editable": true
   },
   "outputs": [],
   "source": [
    "col0_values = shifted_label_msd_rdd.map(lambda x: x.features[0])\n",
    "col0_min = col0_values.min()\n",
    "col0_max = col0_values.max()\n",
    "col0_diff = col0_max - col0_min\n",
    "col1_values = shifted_label_msd_rdd.map(lambda x: x.features[1])\n",
    "col1_min = col1_values.min()\n",
    "col1_max = col1_values.max()\n",
    "col1_diff = col1_max - col1_min"
   ]
  },
  {
   "cell_type": "code",
   "execution_count": 162,
   "metadata": {
    "collapsed": false,
    "deletable": true,
    "editable": true
   },
   "outputs": [
    {
     "name": "stdout",
     "output_type": "stream",
     "text": [
      "1.749 61.97014 60.22114 -337.0925 384.06573 721.15823\n"
     ]
    }
   ],
   "source": [
    "print col0_min, col0_max, col0_diff, col1_min, col1_max, col1_diff"
   ]
  },
  {
   "cell_type": "code",
   "execution_count": 171,
   "metadata": {
    "collapsed": false,
    "deletable": true,
    "editable": true
   },
   "outputs": [
    {
     "name": "stdout",
     "output_type": "stream",
     "text": [
      "(79.0,[0.800293219291,-0.970226866856])\n"
     ]
    }
   ],
   "source": [
    "def feature_scaler(x, col0_min, col0_diff, col1_min, col1_diff):\n",
    "    x.features = (x.features - [col0_min, col1_diff]) / ([col0_diff, col1_diff])\n",
    "    return x\n",
    "\n",
    "scaled_msd_rdd = shifted_label_msd_rdd.map(lambda x: feature_scaler \\\n",
    "                                           (x, col0_min, col0_diff, col1_min, col1_diff))\n",
    "print scaled_msd_rdd.first()"
   ]
  },
  {
   "cell_type": "markdown",
   "metadata": {
    "deletable": true,
    "editable": true
   },
   "source": [
    "### Part5"
   ]
  },
  {
   "cell_type": "code",
   "execution_count": 172,
   "metadata": {
    "collapsed": false,
    "deletable": true,
    "editable": true
   },
   "outputs": [],
   "source": [
    "train, test = scaled_msd_rdd.randomSplit(weights=[0.8,0.2])"
   ]
  },
  {
   "cell_type": "code",
   "execution_count": 173,
   "metadata": {
    "collapsed": false,
    "deletable": true,
    "editable": true
   },
   "outputs": [
    {
     "name": "stdout",
     "output_type": "stream",
     "text": [
      "5153.23710405\n"
     ]
    }
   ],
   "source": [
    "from pyspark.mllib.regression import LinearRegressionWithSGD\n",
    "\n",
    "model = LinearRegressionWithSGD.train(train, iterations=10, step=0.01)\n",
    "\n",
    "ypredictions = test.map(lambda y: (y.label, model.predict(y.features)))\n",
    "\n",
    "rmse_err = ypredictions.map(lambda (y,p): (y-p)**2).reduce(lambda x,y: x+y) / ypredictions.count()\n",
    "\n",
    "print rmse_err\n"
   ]
  },
  {
   "cell_type": "markdown",
   "metadata": {
    "deletable": true,
    "editable": true
   },
   "source": [
    "### Part6"
   ]
  },
  {
   "cell_type": "code",
   "execution_count": 174,
   "metadata": {
    "collapsed": false,
    "deletable": true,
    "editable": true
   },
   "outputs": [
    {
     "data": {
      "image/png": "[encoded data removed]",
      "text/plain": [
       "<matplotlib.figure.Figure at 0x7f364a6e8110>"
      ]
     },
     "metadata": {},
     "output_type": "display_data"
    }
   ],
   "source": [
    "plt.scatter(ypredictions.map(lambda x: x[0]).collect(), ypredictions.map(lambda x: x[1]).collect())\n",
    "plt.show()"
   ]
  }
 ],
 "metadata": {
  "kernelspec": {
   "display_name": "Python 2",
   "language": "python",
   "name": "python2"
  },
  "language_info": {
   "codemirror_mode": {
    "name": "ipython",
    "version": 2
   },
   "file_extension": ".py",
   "mimetype": "text/x-python",
   "name": "python",
   "nbconvert_exporter": "python",
   "pygments_lexer": "ipython2",
   "version": "2.7.12"
  }
 },
 "nbformat": 4,
 "nbformat_minor": 2
}
